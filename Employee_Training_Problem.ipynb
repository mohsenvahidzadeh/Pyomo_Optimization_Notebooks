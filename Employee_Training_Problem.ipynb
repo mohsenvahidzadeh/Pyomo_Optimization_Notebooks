{
 "cells": [
  {
   "cell_type": "markdown",
   "id": "bcb64f8c-2b02-48b1-94f8-5e94212353a5",
   "metadata": {},
   "source": [
    " # An Employee Training Problem\n",
    "This notebook is based on a problem posed in Chapter 8 of the AIMMS documentation:<br>\n",
    "https://documentation.aimms.com/_downloads/AIMMS_modeling.pdf"
   ]
  },
  {
   "cell_type": "code",
   "execution_count": 1,
   "id": "3d0a9345-4e6c-4c69-9d13-2b7f2c9bb4f6",
   "metadata": {},
   "outputs": [],
   "source": [
    "from pyomo.environ import *\n",
    "import matplotlib.pyplot as plt\n",
    "import numpy as np\n",
    "import pandas as pd"
   ]
  },
  {
   "cell_type": "markdown",
   "id": "0f35d025-f81f-4022-be3b-c10c2da6d814",
   "metadata": {},
   "source": [
    "**Problem Description:**<br>\n",
    "Consider an airline company that needs to determine how many trainees to hire into their flight attendant program during the first 6 months of the year. Employees are hired at the beginning of each month. Newly hired employees need to go through 2 months of training during which time they are called trainees. After 2 months of training they will become flight attendants. Trainees can work up to 25 hours per month, while flight attendants can work up to 150 hours per month. Furthermore, the company can have up to 5 trainees at any given month. A flight attendant earns \\\\$5100 per month, while a trainee earns \\\\$3600 per month.\n",
    "Each month a number of flight attendants resign, raising the need to hire new trainees. The personnel manager at this airline company needs to minimize the employee cost, while making sure there are enough flight attendants at each month.\n",
    "At first, we assume the number of resignations in the next 6 months is known in advance, to make the problem easier. Furthermore, we know that the number of flight attendants at the beginning of December is 60, and there were no resignations in December. Also, 2 trainees were hired at the beginning of November, and 0 trainees were hired in December. The given information can be summarized as follows:"
   ]
  },
  {
   "cell_type": "code",
   "execution_count": 2,
   "id": "f2f4e5e7-0a65-4d4d-a419-4638d71d84e1",
   "metadata": {},
   "outputs": [
    {
     "data": {
      "text/html": [
       "<div>\n",
       "<style scoped>\n",
       "    .dataframe tbody tr th:only-of-type {\n",
       "        vertical-align: middle;\n",
       "    }\n",
       "\n",
       "    .dataframe tbody tr th {\n",
       "        vertical-align: top;\n",
       "    }\n",
       "\n",
       "    .dataframe thead th {\n",
       "        text-align: right;\n",
       "    }\n",
       "</style>\n",
       "<table border=\"1\" class=\"dataframe\">\n",
       "  <thead>\n",
       "    <tr style=\"text-align: right;\">\n",
       "      <th></th>\n",
       "      <th>months</th>\n",
       "      <th>required_hours</th>\n",
       "      <th>resignations</th>\n",
       "    </tr>\n",
       "  </thead>\n",
       "  <tbody>\n",
       "    <tr>\n",
       "      <th>0</th>\n",
       "      <td>November</td>\n",
       "      <td>0</td>\n",
       "      <td>0</td>\n",
       "    </tr>\n",
       "    <tr>\n",
       "      <th>1</th>\n",
       "      <td>December</td>\n",
       "      <td>0</td>\n",
       "      <td>0</td>\n",
       "    </tr>\n",
       "    <tr>\n",
       "      <th>2</th>\n",
       "      <td>January</td>\n",
       "      <td>8000</td>\n",
       "      <td>2</td>\n",
       "    </tr>\n",
       "    <tr>\n",
       "      <th>3</th>\n",
       "      <td>February</td>\n",
       "      <td>9000</td>\n",
       "      <td>0</td>\n",
       "    </tr>\n",
       "    <tr>\n",
       "      <th>4</th>\n",
       "      <td>March</td>\n",
       "      <td>9800</td>\n",
       "      <td>2</td>\n",
       "    </tr>\n",
       "  </tbody>\n",
       "</table>\n",
       "</div>"
      ],
      "text/plain": [
       "     months  required_hours  resignations\n",
       "0  November               0             0\n",
       "1  December               0             0\n",
       "2   January            8000             2\n",
       "3  February            9000             0\n",
       "4     March            9800             2"
      ]
     },
     "execution_count": 2,
     "metadata": {},
     "output_type": "execute_result"
    }
   ],
   "source": [
    "RR_df = pd.DataFrame()\n",
    "RR_df[\"months\"] = [\"November\", \"December\", \"January\", \"February\", \"March\", \"April\", \"May\", \"June\"]\n",
    "RR_df[\"required_hours\"] = [0, 0, 8000, 9000, 9800, 9900, 10050, 10500]\n",
    "RR_df[\"resignations\"] = [0, 0, 2, 0, 2, 0, 1, 0]\n",
    "\n",
    "RR_df.head()"
   ]
  },
  {
   "cell_type": "markdown",
   "id": "967932c9-af28-46d0-88a0-c7208da7b7e7",
   "metadata": {},
   "source": [
    "In order to mathematically formulate the problem, we can use the following notation:<br>\n",
    "**Parameters:**<br> \n",
    "c: monthly cost of one flight attendant,<br>\n",
    "d: monthly cost of one trainee,<br>\n",
    "u: monthly number of hours of one flight attendant,<br>\n",
    "v: monthly number of hours of one trainee,<br>\n",
    "m: maximum number of new trainees each month,<br>\n",
    "$r_{t}$: required flight attendant hours in timestep t,<br>\n",
    "$l_{t}$: number of flight attendants resigning in timestep t.<br>\n",
    "**Variables:**<br>\n",
    "$x_{t}$: number of flight attendants available in timestep t,<br>\n",
    "$y_{t}$: number of trainees hired in timestep t.<br>\n",
    "Given the above formulation, the Pyomo optimization problem can be summarized as follows:<br>\n",
    "**Minimize:**\n",
    "$$ \n",
    "\\underset{}{min} \\sum_{t}^{} cx_{t} + d(y_{t}+y_{t-1})\n",
    "$$\n",
    "**Subject to:**\n",
    "$$\n",
    "x_{t} = x_{t-1} - l_{t-1} + y_{t-2}\n",
    "$$\n",
    "$$\n",
    "ux_{t} + \\nu(y_{t} + y_{t-1}) \\ge r_{t}\n",
    "$$\n",
    "$$\n",
    "x_{t} \\ge 0\n",
    "$$\n",
    "$$\n",
    "0 \\le y_{t} \\le m\n",
    "$$"
   ]
  },
  {
   "cell_type": "code",
   "execution_count": 4,
   "id": "14f5f4ce-e70f-473d-8199-3f0508f092b1",
   "metadata": {},
   "outputs": [],
   "source": [
    "model = ConcreteModel()\n",
    "\n",
    "model.t = RangeSet(len(RR_df))\n",
    "\n",
    "#Parameters\n",
    "model.c = Param(initialize=5100,within=Reals)\n",
    "model.d = Param(initialize=3600,within=Reals)\n",
    "model.u = Param(initialize=150,within=Reals)\n",
    "model.v = Param(initialize=25,within=Reals)\n",
    "model.m = Param(initialize=5,within=Reals)\n",
    "\n",
    "def fa_hours(model,t):\n",
    "    return RR_df.loc[t-1,\"required_hours\"]\n",
    "model.r = Param(model.t, initialize=fa_hours, within=NonNegativeIntegers)\n",
    "\n",
    "def fa_resignation(model,t):\n",
    "    return RR_df.loc[t-1,\"resignations\"]\n",
    "model.l = Param(model.t, initialize=fa_resignation, within=NonNegativeIntegers)\n",
    "\n",
    "#Variables\n",
    "model.x = Var(model.t, within=NonNegativeIntegers)\n",
    "model.y = Var(model.t, within=NonNegativeIntegers)\n",
    "\n",
    "def fa_balance(model,t):\n",
    "    if t<3:\n",
    "        return Constraint.Skip\n",
    "    else:\n",
    "        return model.x[t] == model.x[t-1] - model.l[t-1] + model.y[t-2]\n",
    "model.c1 = Constraint(model.t, rule=fa_balance)\n",
    "\n",
    "def hours_balance(model,t):\n",
    "    if t<3:\n",
    "        return Constraint.Skip\n",
    "    else:\n",
    "        return model.u * model.x[t] + model.v * (model.y[t] + model.y[t-1]) >= model.r[t]\n",
    "model.c2 = Constraint(model.t, rule=hours_balance)\n",
    "\n",
    "def fa_count(model,t):\n",
    "    if t==2:\n",
    "        return model.x[t]==60\n",
    "    else:\n",
    "        return model.x[t] >= 0\n",
    "model.c3 = Constraint(model.t, rule=fa_count)\n",
    "\n",
    "def trainee_min_count(model,t):\n",
    "    if t==1:\n",
    "        return model.y[t] == 2\n",
    "    elif t==2:\n",
    "        return model.y[t] == 0\n",
    "    else:\n",
    "        return model.y[t] >= 0\n",
    "model.c4 = Constraint(model.t, rule=trainee_min_count)\n",
    "\n",
    "def trainee_max_count(model,t):\n",
    "    return model.y[t] <= model.m\n",
    "model.c5 = Constraint(model.t, rule=trainee_max_count)\n",
    "\n",
    "def rule_OF(model):\n",
    "    return sum(model.c * model.x[t] + model.d * (model.y[t]+model.y[t-1]) if t>2 else 0 for t in model.t)\n",
    "model.objective = Objective(rule=rule_OF, sense=minimize)\n",
    "\n",
    "opt = SolverFactory('glpk')\n",
    "results = opt.solve(model)"
   ]
  },
  {
   "cell_type": "code",
   "execution_count": 5,
   "id": "b7199f20-2562-4d6b-af51-c095801cdef8",
   "metadata": {},
   "outputs": [
    {
     "name": "stdout",
     "output_type": "stream",
     "text": [
      "x : Size=8, Index=t\n",
      "    Key : Lower : Value : Upper : Fixed : Stale : Domain\n",
      "      1 :     0 :   0.0 :  None : False : False : NonNegativeIntegers\n",
      "      2 :     0 :  60.0 :  None : False : False : NonNegativeIntegers\n",
      "      3 :     0 :  62.0 :  None : False : False : NonNegativeIntegers\n",
      "      4 :     0 :  60.0 :  None : False : False : NonNegativeIntegers\n",
      "      5 :     0 :  65.0 :  None : False : False : NonNegativeIntegers\n",
      "      6 :     0 :  65.0 :  None : False : False : NonNegativeIntegers\n",
      "      7 :     0 :  67.0 :  None : False : False : NonNegativeIntegers\n",
      "      8 :     0 :  70.0 :  None : False : False : NonNegativeIntegers\n"
     ]
    }
   ],
   "source": [
    "model.x.pprint()"
   ]
  },
  {
   "cell_type": "code",
   "execution_count": 6,
   "id": "8904109c-638f-4d8b-be6e-3d45d27904e1",
   "metadata": {},
   "outputs": [
    {
     "data": {
      "text/plain": [
       "Text(0, 0.5, '# of trainees')"
      ]
     },
     "execution_count": 6,
     "metadata": {},
     "output_type": "execute_result"
    },
    {
     "data": {
      "image/png": "[encoded data removed]",
      "text/plain": [
       "<Figure size 800x800 with 1 Axes>"
      ]
     },
     "metadata": {},
     "output_type": "display_data"
    }
   ],
   "source": [
    "plt.figure(figsize=(8,8))\n",
    "Y=[value(model.y[t]) for t in model.t]\n",
    "X=[RR_df.loc[t-1,\"months\"] for t in model.t]\n",
    "plt.plot(X[2:],Y[2:],'b-o')\n",
    "plt.xlabel('Month ')\n",
    "plt.ylabel('# of trainees')"
   ]
  },
  {
   "cell_type": "markdown",
   "id": "a6bb4a55-8653-42a3-82b5-5dee49ccc1d1",
   "metadata": {},
   "source": [
    " # Probabilistic Constraint\n",
    "In the previous section, we assumed that the number of flight attendants that will resign is known for the first 6 months of the year. However, the number of resignations will likely be a random variable with its own distribution. We can assume it follows a normal distribution with means and variances given in the following table:"
   ]
  },
  {
   "cell_type": "code",
   "execution_count": 7,
   "id": "b33f3efd-91ec-43cb-93db-74931ca31e37",
   "metadata": {},
   "outputs": [
    {
     "data": {
      "text/html": [
       "<div>\n",
       "<style scoped>\n",
       "    .dataframe tbody tr th:only-of-type {\n",
       "        vertical-align: middle;\n",
       "    }\n",
       "\n",
       "    .dataframe tbody tr th {\n",
       "        vertical-align: top;\n",
       "    }\n",
       "\n",
       "    .dataframe thead th {\n",
       "        text-align: right;\n",
       "    }\n",
       "</style>\n",
       "<table border=\"1\" class=\"dataframe\">\n",
       "  <thead>\n",
       "    <tr style=\"text-align: right;\">\n",
       "      <th></th>\n",
       "      <th>months</th>\n",
       "      <th>mean</th>\n",
       "      <th>variance</th>\n",
       "      <th>alpha=0.01</th>\n",
       "      <th>alpha=0.02</th>\n",
       "      <th>alpha=0.05</th>\n",
       "    </tr>\n",
       "  </thead>\n",
       "  <tbody>\n",
       "    <tr>\n",
       "      <th>0</th>\n",
       "      <td>January</td>\n",
       "      <td>1.15</td>\n",
       "      <td>0.57</td>\n",
       "      <td>2.48</td>\n",
       "      <td>2.32</td>\n",
       "      <td>2.09</td>\n",
       "    </tr>\n",
       "    <tr>\n",
       "      <th>1</th>\n",
       "      <td>February</td>\n",
       "      <td>0.80</td>\n",
       "      <td>0.58</td>\n",
       "      <td>2.15</td>\n",
       "      <td>1.99</td>\n",
       "      <td>1.75</td>\n",
       "    </tr>\n",
       "    <tr>\n",
       "      <th>2</th>\n",
       "      <td>March</td>\n",
       "      <td>1.30</td>\n",
       "      <td>0.73</td>\n",
       "      <td>3.00</td>\n",
       "      <td>2.80</td>\n",
       "      <td>2.50</td>\n",
       "    </tr>\n",
       "    <tr>\n",
       "      <th>3</th>\n",
       "      <td>April</td>\n",
       "      <td>1.45</td>\n",
       "      <td>0.75</td>\n",
       "      <td>3.19</td>\n",
       "      <td>2.99</td>\n",
       "      <td>2.68</td>\n",
       "    </tr>\n",
       "    <tr>\n",
       "      <th>4</th>\n",
       "      <td>May</td>\n",
       "      <td>0.85</td>\n",
       "      <td>0.50</td>\n",
       "      <td>2.01</td>\n",
       "      <td>1.88</td>\n",
       "      <td>1.67</td>\n",
       "    </tr>\n",
       "    <tr>\n",
       "      <th>5</th>\n",
       "      <td>June</td>\n",
       "      <td>1.40</td>\n",
       "      <td>0.79</td>\n",
       "      <td>3.24</td>\n",
       "      <td>3.02</td>\n",
       "      <td>2.70</td>\n",
       "    </tr>\n",
       "  </tbody>\n",
       "</table>\n",
       "</div>"
      ],
      "text/plain": [
       "     months  mean  variance  alpha=0.01  alpha=0.02  alpha=0.05\n",
       "0   January  1.15      0.57        2.48        2.32        2.09\n",
       "1  February  0.80      0.58        2.15        1.99        1.75\n",
       "2     March  1.30      0.73        3.00        2.80        2.50\n",
       "3     April  1.45      0.75        3.19        2.99        2.68\n",
       "4       May  0.85      0.50        2.01        1.88        1.67\n",
       "5      June  1.40      0.79        3.24        3.02        2.70"
      ]
     },
     "execution_count": 7,
     "metadata": {},
     "output_type": "execute_result"
    }
   ],
   "source": [
    "Resign_df = pd.DataFrame()\n",
    "Resign_df[\"months\"] = [\"January\", \"February\", \"March\", \"April\", \"May\", \"June\"]\n",
    "Resign_df[\"mean\"] = [1.15, 0.80, 1.30, 1.45, 0.85, 1.40]\n",
    "Resign_df[\"variance\"] = [0.57, 0.58, 0.73, 0.75, 0.50, 0.79]\n",
    "Resign_df[\"alpha=0.01\"] = [2.48, 2.15, 3.00, 3.19, 2.01, 3.24]\n",
    "Resign_df[\"alpha=0.02\"] = [2.32, 1.99, 2.80, 2.99, 1.88, 3.02]\n",
    "Resign_df[\"alpha=0.05\"] = [2.09, 1.75, 2.50, 2.68, 1.67, 2.70]\n",
    "\n",
    "Resign_df"
   ]
  },
  {
   "cell_type": "markdown",
   "id": "ada4e78c-abc3-4d96-ad15-0b7bc57da57a",
   "metadata": {},
   "source": [
    "Due to the fact that the number of resignations at each month is uncertain, the personnel manager needs to hire extra trainees every month in order to make sure all the flight requirements are met. Therefore, the flight attendant balance equation can be modified using the critical resignation numbers in the table above:\n",
    "$$\n",
    "PR[x_{t-1} + y_{t-2} - x_{t} \\ge l_{t-1}] \\ge 1-\\alpha\n",
    "$$\n",
    "Or\n",
    "$$\n",
    "PR[x_{t-1} + y_{t-2} - x_{t} \\le l_{t-1}] \\le \\alpha\n",
    "$$\n",
    "A very small value for α means that the probability of having enough trainees at each month to cover flight hours will be high. Now we can use the critical number of resignations at each month ($\\overline{l}{t-1}$) in the optimization formulation as follows:<br>\n",
    "**Minimize:**\n",
    "$$ \n",
    "\\underset{}{min} \\sum{t}^{} cx_{t} + d(y_{t}+y_{t-1})\n",
    "$$\n",
    "**Subject to:**\n",
    "$$\n",
    "x_{t} \\le x_{t-1} - \\overline{l}{t-1} + y{t-2}\n",
    "$$\n",
    "$$\n",
    "ux_{t} + \\nu(y_{t} + y_{t-1}) \\ge r_{t}\n",
    "$$\n",
    "$$\n",
    "x_{t} \\ge 0\n",
    "$$\n",
    "$$\n",
    "0 \\le y_{t} \\le m\n",
    "$$"
   ]
  },
  {
   "cell_type": "code",
   "execution_count": 9,
   "id": "bef4fe20-0c46-4645-ad4c-470a9cd2a6e3",
   "metadata": {},
   "outputs": [
    {
     "name": "stdout",
     "output_type": "stream",
     "text": [
      "WARNING: Loading a SolverResults object with a warning status into\n",
      "model.name=\"unknown\";\n",
      "    - termination condition: infeasible\n",
      "    - message from solver: Ipopt 3.14.13\\x3a Converged to a locally infeasible\n",
      "      point. Problem may be infeasible.\n"
     ]
    }
   ],
   "source": [
    "del model\n",
    "\n",
    "model = ConcreteModel()\n",
    "\n",
    "model.t = RangeSet(len(RR_df))\n",
    "\n",
    "#Parameters\n",
    "model.c = Param(initialize=5100,within=Reals)\n",
    "model.d = Param(initialize=3600,within=Reals)\n",
    "model.u = Param(initialize=150,within=Reals)\n",
    "model.v = Param(initialize=25,within=Reals)\n",
    "model.m = Param(initialize=5,within=Reals)\n",
    "\n",
    "def fa_hours(model,t):\n",
    "    return RR_df.loc[t-1,\"required_hours\"]\n",
    "model.r = Param(model.t, initialize=fa_hours, within=NonNegativeIntegers)\n",
    "\n",
    "def fa_resignation(model,t):\n",
    "    if t<3:\n",
    "        return 0\n",
    "    else:\n",
    "        return Resign_df.loc[t-3,\"alpha=0.01\"]\n",
    "model.l_hat = Param(model.t, initialize=fa_resignation, within=Reals)\n",
    "\n",
    "#Variables\n",
    "model.x = Var(model.t, within=NonNegativeIntegers)\n",
    "model.y = Var(model.t, within=NonNegativeIntegers)\n",
    "\n",
    "def fa_balance(model,t):\n",
    "    if t<3:\n",
    "        return Constraint.Skip\n",
    "    else:\n",
    "        return model.x[t] <= model.x[t-1] - model.l_hat[t-1] + model.y[t-2]\n",
    "model.c1 = Constraint(model.t, rule=fa_balance)\n",
    "\n",
    "def hours_balance(model,t):\n",
    "    if t<3:\n",
    "        return Constraint.Skip\n",
    "    else:\n",
    "        return model.u * model.x[t] + model.v * (model.y[t] + model.y[t-1]) >= model.r[t]\n",
    "model.c2 = Constraint(model.t, rule=hours_balance)\n",
    "\n",
    "def fa_count(model,t):\n",
    "    if t==2:\n",
    "        return model.x[t]==60\n",
    "    else:\n",
    "        return model.x[t] >= 0\n",
    "model.c3 = Constraint(model.t, rule=fa_count)\n",
    "\n",
    "def trainee_min_count(model,t):\n",
    "    if t==1:\n",
    "        return model.y[t] == 2\n",
    "    elif t==2:\n",
    "        return model.y[t] == 0\n",
    "    else:\n",
    "        return model.y[t] >= 0\n",
    "model.c4 = Constraint(model.t, rule=trainee_min_count)\n",
    "\n",
    "def trainee_max_count(model,t):\n",
    "    return model.y[t] <= model.m\n",
    "model.c5 = Constraint(model.t, rule=trainee_max_count)\n",
    "\n",
    "def rule_OF(model):\n",
    "    return sum(model.c * model.x[t] + model.d * (model.y[t]+model.y[t-1]) if t>2 else 0 for t in model.t)\n",
    "model.objective = Objective(rule=rule_OF, sense=minimize)\n",
    "\n",
    "opt = SolverFactory('ipopt')\n",
    "# opt = SolverFactory('cbc')\n",
    "results = opt.solve(model)"
   ]
  },
  {
   "cell_type": "code",
   "execution_count": 10,
   "id": "6eec674b-42e4-4dba-a977-e58a59a55813",
   "metadata": {},
   "outputs": [
    {
     "name": "stdout",
     "output_type": "stream",
     "text": [
      "x : Size=8, Index=t\n",
      "    Key : Lower : Value             : Upper : Fixed : Stale : Domain\n",
      "      1 :     0 :    99999.99999999 :  None : False : False : NonNegativeIntegers\n",
      "      2 :     0 : 60.18408723183411 :  None : False : False : NonNegativeIntegers\n",
      "      3 :     0 : 62.56272053047609 :  None : False : False : NonNegativeIntegers\n",
      "      4 :     0 : 60.45867007113153 :  None : False : False : NonNegativeIntegers\n",
      "      5 :     0 : 63.66666599666929 :  None : False : False : NonNegativeIntegers\n",
      "      6 :     0 : 65.52527918000001 :  None : False : False : NonNegativeIntegers\n",
      "      7 :     0 : 67.24292290795572 :  None : False : False : NonNegativeIntegers\n",
      "      8 :     0 : 70.08304592539685 :  None : False : False : NonNegativeIntegers\n"
     ]
    }
   ],
   "source": [
    "model.x.pprint()"
   ]
  },
  {
   "cell_type": "code",
   "execution_count": 11,
   "id": "0982b414-3f87-4cc2-b955-fc896d2265c1",
   "metadata": {},
   "outputs": [
    {
     "data": {
      "text/plain": [
       "Text(0, 0.5, '# of trainees')"
      ]
     },
     "execution_count": 11,
     "metadata": {},
     "output_type": "execute_result"
    },
    {
     "data": {
      "image/png": "[encoded data removed]",
      "text/plain": [
       "<Figure size 800x800 with 1 Axes>"
      ]
     },
     "metadata": {},
     "output_type": "display_data"
    }
   ],
   "source": [
    "plt.figure(figsize=(8,8))\n",
    "Y=[value(model.y[t]) for t in model.t]\n",
    "X=[RR_df.loc[t-1,\"months\"] for t in model.t]\n",
    "plt.plot(X[2:],Y[2:],'b-o')\n",
    "plt.xlabel('Month ')\n",
    "plt.ylabel('# of trainees')"
   ]
  },
  {
   "cell_type": "code",
   "execution_count": null,
   "id": "a3c99c7b-ca21-40f2-8036-1f5cb51de94a",
   "metadata": {},
   "outputs": [],
   "source": []
  }
 ],
 "metadata": {
  "kernelspec": {
   "display_name": "optenv",
   "language": "python",
   "name": "optenv"
  },
  "language_info": {
   "codemirror_mode": {
    "name": "ipython",
    "version": 3
   },
   "file_extension": ".py",
   "mimetype": "text/x-python",
   "name": "python",
   "nbconvert_exporter": "python",
   "pygments_lexer": "ipython3",
   "version": "3.11.7"
  }
 },
 "nbformat": 4,
 "nbformat_minor": 5
}
